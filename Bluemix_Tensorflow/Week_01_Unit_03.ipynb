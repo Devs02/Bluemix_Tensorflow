{
    "nbformat_minor": 2, 
    "cells": [
        {
            "source": "# Enterprise Deep Learning with TensorFlow: openSAP \n\n## SAP Innovation Center Network\n### Revised by Jongwook Woo (1/29/2018)\n```\nLicensed under the Apache License, Version 2.0 (the \"License\");\nyou may not use this file except in compliance with the License.\nYou may obtain a copy of the License at\n\n    http://www.apache.org/licenses/LICENSE-2.0\n\nUnless required by applicable law or agreed to in writing, software\ndistributed under the License is distributed on an \"AS IS\" BASIS,\nWITHOUT WARRANTIES OR CONDITIONS OF ANY KIND, either express or implied.\nSee the License for the specific language governing permissions and\nlimitations under the License.\n```", 
            "cell_type": "markdown", 
            "metadata": {}
        }, 
        {
            "source": "### NOTE: Select DSX Spark Kernel: Python 3.5 (Experimental) with Spark 2.1", 
            "cell_type": "markdown", 
            "metadata": {}
        }, 
        {
            "source": "### Introduction to Jupyter Notebooks\n\nA Jupyter notebook will from hereon be referred to as *notebook*.\n\n- Supports multiple programming languages (Julia, Python and R)\n- Documents with the ability to execute code, and display rich text\n- Capability to hold human-readable texts, equations, plots, images and tables\n- Kernel associated with a notebook is automatically launched with notebook", 
            "cell_type": "markdown", 
            "metadata": {}
        }, 
        {
            "source": "### Some Keyboard Shortcuts\n\nJupyter notebooks can be run in two modes: \n- Command mode \n- Edit mode", 
            "cell_type": "markdown", 
            "metadata": {}
        }, 
        {
            "source": "Following are some keyboard shortcuts commonly used in command mode.\n\nCommand | Action |\n------------- |:------------- |\nEnter | Enter into edit mode \n[Ctrl / Cmd] + Enter | Run highlighted cell \nShift + Enter | Run highlighted cell, select cell below \n[Alt / Opt] + Enter | Run highlighted cell, insert cell below \nY | Change cell to coding mode \nM | Change cell to markdown mode \nUp / K | Select cell above current cell \nDown / J | Select cell below current cell \nA / B | Insert cell above / below \nX | Cut selected cell \n[Ctrl / Cmd] + S | Save and checkpoint notebook ", 
            "cell_type": "markdown", 
            "metadata": {}
        }, 
        {
            "source": "Following are some keyboard shortcuts commonly used in edit mode.\n\nCommand | Action |\n------------- |:------------- |\nEnter | Enter into edit mode \n[Ctrl / Cmd] + A | Select all text in cell \n[Ctrl / Cmd] + Z | Undo \n[Ctrl / Cmd] + Shift + Z | Redo ", 
            "cell_type": "markdown", 
            "metadata": {}
        }, 
        {
            "source": "### Running Python Code in Jupyter\nWe will run most of our Python code in the course on a Jupyter notebook. \n\nA *notebook* can be used for defining blocks of code. It allows execution and display of intermediate code blocks providing a flexible code development and debugging platform for developers.\n\nWe see some examples of running Python code below", 
            "cell_type": "markdown", 
            "metadata": {}
        }, 
        {
            "execution_count": 4, 
            "cell_type": "code", 
            "metadata": {
                "scrolled": true
            }, 
            "outputs": [
                {
                    "output_type": "stream", 
                    "name": "stdout", 
                    "text": "Summing up all the above variables totals to 45\nSumming up all the above variables totals to 45\n"
                }
            ], 
            "source": "# Simple example of defining variables and lists\n# Initializing values of multiple variables\na, b, c = 15, 20, 10\n# Formatting the print output using format command\nprint(\"Summing up all the above variables totals to {}\".format(a + b + c))\n# The % formatting can also be used to print formatted outputs\nprint(\"Summing up all the above variables totals to %d\" % (a + b + c))"
        }, 
        {
            "execution_count": 5, 
            "cell_type": "code", 
            "metadata": {}, 
            "outputs": [
                {
                    "output_type": "stream", 
                    "name": "stdout", 
                    "text": "0=>5=>10=>15=>20=>25=>30=>35=>40=>45=>50=>55=>60=>65=>70=>75=>80=>85=>90=>95\n"
                }
            ], 
            "source": "# Initialize a list of numbers from 0 - 99\nnum_list = range(100)\n# Let's choose only those numbers that are divible by 5 using list comprehension\nfiver_list = [num for num in num_list if num % 5 == 0] \n# Creating a formatted string from the list\nprint(\"=>\".join(str(num) for num in fiver_list)) "
        }, 
        {
            "source": "### Displaying Images in Jupyter\n\nImages can be displayed in a *notebook* similar to displaying an image on an HTML page.\nWe use the ```![ImageCaption](ImagePath)``` to display images in a *notebook*. The image caption is displayed if the image is not available in the path specified.\n\nWe display an image below using this method. **NOTE:** as it is in DSX, it will not display the image as DSX has a different environment.\n\n<br/>\n![SAP Logo](data/SAP.png)\n<br/>\n\n<br/>\n", 
            "cell_type": "markdown", 
            "metadata": {}
        }, 
        {
            "source": "### Plotting in Jupyter\nOur *notebooks* allow us to plot results and visualize the data that we have.\nIn order to show plots in a notebook, we can use either Matplotlib [].", 
            "cell_type": "markdown", 
            "metadata": {}
        }, 
        {
            "execution_count": 6, 
            "cell_type": "code", 
            "metadata": {}, 
            "outputs": [
                {
                    "output_type": "display_data", 
                    "data": {
                        "image/png": "[encoded data removed]", 
                        "text/plain": "<matplotlib.figure.Figure at 0x7f83b335bd90>"
                    }, 
                    "metadata": {}
                }
            ], 
            "source": "import matplotlib.pyplot as plt\n%matplotlib inline\n\nplt.plot([1, 2, 3, 4], [10, 20, 30, 40], color='darkblue', linewidth=1, label=\"Line\")\nplt.scatter([0.7, 3.8, 1.2, 2.5], [12, 35, 11, 26], color='red', marker='o', label=\"Scatter\") \nplt.title(\"Plotting using Matplotlib\")\nplt.legend()\nplt.show()"
        }, 
        {
            "source": "More plot types and plotting styles are discussed in detail in this article:\nhttps://www.datacamp.com/community/tutorials/matplotlib-tutorial-python", 
            "cell_type": "markdown", 
            "metadata": {}
        }, 
        {
            "source": "### Visualizing Machine Learning Datasets\nWe will look at an example of using Facets, an open source visualization tool for machine learning datasets.", 
            "cell_type": "markdown", 
            "metadata": {}
        }
    ], 
    "metadata": {
        "kernelspec": {
            "display_name": "Python 2 with Spark 2.1", 
            "name": "python2-spark21", 
            "language": "python"
        }, 
        "language_info": {
            "mimetype": "text/x-python", 
            "nbconvert_exporter": "python", 
            "version": "2.7.11", 
            "name": "python", 
            "file_extension": ".py", 
            "pygments_lexer": "ipython2", 
            "codemirror_mode": {
                "version": 2, 
                "name": "ipython"
            }
        }, 
        "anaconda-cloud": {}
    }, 
    "nbformat": 4
}